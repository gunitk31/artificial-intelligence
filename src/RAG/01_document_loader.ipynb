{
 "cells": [
  {
   "cell_type": "code",
   "execution_count": 1,
   "id": "b7ac0948",
   "metadata": {},
   "outputs": [],
   "source": [
    "import os\n",
    "import openai\n",
    "\n",
    "from dotenv import load_dotenv, find_dotenv\n",
    "_ = load_dotenv(find_dotenv()) # read local .env file\n",
    "\n",
    "openai.api_key  = os.environ['OPENAI_API_KEY']\n",
    "\n",
    "data_dir = os.environ['DATA_DIR']"
   ]
  },
  {
   "cell_type": "markdown",
   "id": "3ede7fe0",
   "metadata": {},
   "source": [
    "# PDF Document Loader"
   ]
  },
  {
   "cell_type": "code",
   "execution_count": 2,
   "id": "7ecc7170",
   "metadata": {},
   "outputs": [],
   "source": [
    "from langchain.document_loaders import PyPDFLoader\n",
    "loader = PyPDFLoader(f\"{data_dir}\\\\RAG\\\\PDF\\\\machinelearning-lecture01.pdf\")\n",
    "pages = loader.load()"
   ]
  },
  {
   "cell_type": "code",
   "execution_count": 3,
   "id": "7070862e",
   "metadata": {},
   "outputs": [
    {
     "data": {
      "text/plain": [
       "22"
      ]
     },
     "execution_count": 3,
     "metadata": {},
     "output_type": "execute_result"
    }
   ],
   "source": [
    "len(pages)"
   ]
  },
  {
   "cell_type": "code",
   "execution_count": 4,
   "id": "21f1f3c1",
   "metadata": {},
   "outputs": [
    {
     "name": "stdout",
     "output_type": "stream",
     "text": [
      "MachineLearning-Lecture01  \n",
      "Instructor (Andrew Ng): Okay. Good morning. Welcome to CS229, the machine \n",
      "learning class. So what I wanna do today is just spend a little time going over the logistics \n",
      "of the class, and then we'll start to talk a bit about machine learning.  \n",
      "By way of introduction, my name's Andrew Ng and I'll be instructor for this class. And so \n",
      "I personally work in machine learning, and I've worked on it for about 15 years now, and \n",
      "I actually think that machine learning is the most exciting field of all the computer \n",
      "sciences. So I'm actually always excited about teaching this class. Sometimes I actually \n",
      "think that machine learning is not only the most exciting thing in computer science, but \n",
      "the most exciting thing in all of human endeavor, so maybe a little bias there.  \n",
      "I also want to introduce the TAs, who are all graduate students doing research in or \n",
      "related to the machine learning and all aspects of machine learning. Paul Baumstarck \n",
      "works in machine learning and computer vision. Catie Chang is actually a neuroscientist \n",
      "who applies machine learning algorithms to try to understand the human brain. Tom Do \n",
      "is another PhD student, works in computational biology and in sort of the basic \n",
      "fundamentals of human learning. Zico Kolter is the head TA — he's head TA two years \n",
      "in a row now — works in machine learning a nd applies them to a bunch of robots. And \n",
      "Daniel Ramage is — I guess he's not here  — Daniel applies l earning algorithms to \n",
      "problems in natural language processing.  \n",
      "So you'll get to know the TAs and me much better throughout this quarter, but just from \n",
      "the sorts of things the TA's do, I hope you can already tell that machine learning is a \n",
      "highly interdisciplinary topic in which just the TAs find learning algorithms to problems \n",
      "in computer vision and biology and robots and language. And machine learning is one of \n",
      "those things that has and is having a large impact on many applications.  \n",
      "So just in my own daily work, I actually frequently end up talking to people like \n",
      "helicopter pilots to biologists to people in computer systems or databases to economists \n",
      "and sort of also an unending stream of people from industry coming to Stanford \n",
      "interested in applying machine learning methods to their own problems.  \n",
      "So yeah, this is fun. A couple of weeks ago, a student actually forwarded to me an article \n",
      "in \"Computer World\" about the 12 IT skills that employers can't say no to. So it's about \n",
      "sort of the 12 most desirable skills in all of IT and all of information technology, and \n",
      "topping the list was actually machine learning. So I think this is a good time to be \n",
      "learning this stuff and learning algorithms and having a large impact on many segments \n",
      "of science and industry.  \n",
      "I'm actually curious about something. Learning algorithms is one of the things that \n",
      "touches many areas of science and industries, and I'm just kind of curious. How many \n",
      "people here are computer science majors, are in the computer science department? Okay. \n",
      "About half of you. How many people are from EE? Oh, okay, maybe about a fifth. How\n"
     ]
    }
   ],
   "source": [
    "page = pages[0]\n",
    "print(page.page_content)"
   ]
  },
  {
   "cell_type": "code",
   "execution_count": 5,
   "id": "2e01257b",
   "metadata": {},
   "outputs": [
    {
     "data": {
      "text/plain": [
       "{'producer': 'Acrobat Distiller 8.1.0 (Windows)',\n",
       " 'creator': 'PScript5.dll Version 5.2.2',\n",
       " 'creationdate': '2008-07-11T11:25:23-07:00',\n",
       " 'author': '',\n",
       " 'moddate': '2008-07-11T11:25:23-07:00',\n",
       " 'title': '',\n",
       " 'source': 'C:\\\\\\\\Users\\\\\\\\gunit\\\\\\\\OneDrive\\\\\\\\Documents\\\\\\\\Study Material\\\\\\\\Practice Projects\\\\\\\\remote\\\\\\\\artificial-intelligence\\\\\\\\data\\\\RAG\\\\PDF\\\\machinelearning-lecture01.pdf',\n",
       " 'total_pages': 22,\n",
       " 'page': 0,\n",
       " 'page_label': '1'}"
      ]
     },
     "execution_count": 5,
     "metadata": {},
     "output_type": "execute_result"
    }
   ],
   "source": [
    "page.metadata"
   ]
  },
  {
   "cell_type": "markdown",
   "id": "874d4dd8",
   "metadata": {},
   "source": [
    "# Youtube Loader"
   ]
  },
  {
   "cell_type": "code",
   "execution_count": 6,
   "id": "3967f6e0",
   "metadata": {},
   "outputs": [],
   "source": [
    "from langchain.document_loaders.generic import GenericLoader\n",
    "from langchain_community.document_loaders.blob_loaders.file_system import FileSystemBlobLoader\n",
    "from langchain.document_loaders.parsers import OpenAIWhisperParser\n",
    "from langchain.document_loaders.blob_loaders.youtube_audio import YoutubeAudioLoader"
   ]
  },
  {
   "cell_type": "code",
   "execution_count": 7,
   "id": "7e36b190",
   "metadata": {},
   "outputs": [
    {
     "name": "stdout",
     "output_type": "stream",
     "text": [
      "[youtube] Extracting URL: https://www.youtube.com/watch?v=YUAd-kefT0w\n",
      "[youtube] YUAd-kefT0w: Downloading webpage\n",
      "[youtube] YUAd-kefT0w: Downloading webpage\n",
      "[youtube] YUAd-kefT0w: Downloading tv client config\n",
      "[youtube] YUAd-kefT0w: Downloading tv client config\n",
      "[youtube] YUAd-kefT0w: Downloading tv player API JSON\n",
      "[youtube] YUAd-kefT0w: Downloading ios player API JSON\n",
      "[youtube] YUAd-kefT0w: Downloading tv player API JSON\n",
      "[youtube] YUAd-kefT0w: Downloading ios player API JSON\n",
      "[youtube] YUAd-kefT0w: Downloading m3u8 information\n",
      "[youtube] YUAd-kefT0w: Downloading m3u8 information\n",
      "[info] YUAd-kefT0w: Downloading 1 format(s): 140\n",
      "[info] YUAd-kefT0w: Downloading 1 format(s): 140\n",
      "[download] C:\\Users\\gunit\\OneDrive\\Documents\\Study Material\\Practice Projects\\remote\\artificial-intelligence\\data\\RAG\\Youtube\\The Acting Game with Dakota Johnson.m4a has already been downloaded\n",
      "[download] 100% of    5.26MiB\n",
      "[download] C:\\Users\\gunit\\OneDrive\\Documents\\Study Material\\Practice Projects\\remote\\artificial-intelligence\\data\\RAG\\Youtube\\The Acting Game with Dakota Johnson.m4a has already been downloaded\n",
      "[download] 100% of    5.26MiB\n"
     ]
    },
    {
     "name": "stderr",
     "output_type": "stream",
     "text": [
      "ERROR: Postprocessing: ffprobe and ffmpeg not found. Please install or provide the path using --ffmpeg-location\n"
     ]
    },
    {
     "ename": "DownloadError",
     "evalue": "ERROR: Postprocessing: ffprobe and ffmpeg not found. Please install or provide the path using --ffmpeg-location",
     "output_type": "error",
     "traceback": [
      "\u001b[31m---------------------------------------------------------------------------\u001b[39m",
      "\u001b[31mPostProcessingError\u001b[39m                       Traceback (most recent call last)",
      "\u001b[36mFile \u001b[39m\u001b[32mc:\\Users\\gunit\\OneDrive\\Documents\\Study Material\\Practice Projects\\remote\\artificial-intelligence\\.venv\\Lib\\site-packages\\yt_dlp\\YoutubeDL.py:3596\u001b[39m, in \u001b[36mYoutubeDL.process_info\u001b[39m\u001b[34m(self, info_dict)\u001b[39m\n\u001b[32m   3595\u001b[39m \u001b[38;5;28;01mtry\u001b[39;00m:\n\u001b[32m-> \u001b[39m\u001b[32m3596\u001b[39m     replace_info_dict(\u001b[38;5;28;43mself\u001b[39;49m\u001b[43m.\u001b[49m\u001b[43mpost_process\u001b[49m\u001b[43m(\u001b[49m\u001b[43mdl_filename\u001b[49m\u001b[43m,\u001b[49m\u001b[43m \u001b[49m\u001b[43minfo_dict\u001b[49m\u001b[43m,\u001b[49m\u001b[43m \u001b[49m\u001b[43mfiles_to_move\u001b[49m\u001b[43m)\u001b[49m)\n\u001b[32m   3597\u001b[39m \u001b[38;5;28;01mexcept\u001b[39;00m PostProcessingError \u001b[38;5;28;01mas\u001b[39;00m err:\n",
      "\u001b[36mFile \u001b[39m\u001b[32mc:\\Users\\gunit\\OneDrive\\Documents\\Study Material\\Practice Projects\\remote\\artificial-intelligence\\.venv\\Lib\\site-packages\\yt_dlp\\YoutubeDL.py:3780\u001b[39m, in \u001b[36mYoutubeDL.post_process\u001b[39m\u001b[34m(self, filename, info, files_to_move)\u001b[39m\n\u001b[32m   3779\u001b[39m info[\u001b[33m'\u001b[39m\u001b[33m__files_to_move\u001b[39m\u001b[33m'\u001b[39m] = files_to_move \u001b[38;5;129;01mor\u001b[39;00m {}\n\u001b[32m-> \u001b[39m\u001b[32m3780\u001b[39m info = \u001b[38;5;28;43mself\u001b[39;49m\u001b[43m.\u001b[49m\u001b[43mrun_all_pps\u001b[49m\u001b[43m(\u001b[49m\u001b[33;43m'\u001b[39;49m\u001b[33;43mpost_process\u001b[39;49m\u001b[33;43m'\u001b[39;49m\u001b[43m,\u001b[49m\u001b[43m \u001b[49m\u001b[43minfo\u001b[49m\u001b[43m,\u001b[49m\u001b[43m \u001b[49m\u001b[43madditional_pps\u001b[49m\u001b[43m=\u001b[49m\u001b[43minfo\u001b[49m\u001b[43m.\u001b[49m\u001b[43mget\u001b[49m\u001b[43m(\u001b[49m\u001b[33;43m'\u001b[39;49m\u001b[33;43m__postprocessors\u001b[39;49m\u001b[33;43m'\u001b[39;49m\u001b[43m)\u001b[49m\u001b[43m)\u001b[49m\n\u001b[32m   3781\u001b[39m info = \u001b[38;5;28mself\u001b[39m.run_pp(MoveFilesAfterDownloadPP(\u001b[38;5;28mself\u001b[39m), info)\n",
      "\u001b[36mFile \u001b[39m\u001b[32mc:\\Users\\gunit\\OneDrive\\Documents\\Study Material\\Practice Projects\\remote\\artificial-intelligence\\.venv\\Lib\\site-packages\\yt_dlp\\YoutubeDL.py:3762\u001b[39m, in \u001b[36mYoutubeDL.run_all_pps\u001b[39m\u001b[34m(self, key, info, additional_pps)\u001b[39m\n\u001b[32m   3761\u001b[39m \u001b[38;5;28;01mfor\u001b[39;00m pp \u001b[38;5;129;01min\u001b[39;00m (additional_pps \u001b[38;5;129;01mor\u001b[39;00m []) + \u001b[38;5;28mself\u001b[39m._pps[key]:\n\u001b[32m-> \u001b[39m\u001b[32m3762\u001b[39m     info = \u001b[38;5;28;43mself\u001b[39;49m\u001b[43m.\u001b[49m\u001b[43mrun_pp\u001b[49m\u001b[43m(\u001b[49m\u001b[43mpp\u001b[49m\u001b[43m,\u001b[49m\u001b[43m \u001b[49m\u001b[43minfo\u001b[49m\u001b[43m)\u001b[49m\n\u001b[32m   3763\u001b[39m \u001b[38;5;28;01mreturn\u001b[39;00m info\n",
      "\u001b[36mFile \u001b[39m\u001b[32mc:\\Users\\gunit\\OneDrive\\Documents\\Study Material\\Practice Projects\\remote\\artificial-intelligence\\.venv\\Lib\\site-packages\\yt_dlp\\YoutubeDL.py:3740\u001b[39m, in \u001b[36mYoutubeDL.run_pp\u001b[39m\u001b[34m(self, pp, infodict)\u001b[39m\n\u001b[32m   3739\u001b[39m \u001b[38;5;28;01mtry\u001b[39;00m:\n\u001b[32m-> \u001b[39m\u001b[32m3740\u001b[39m     files_to_delete, infodict = \u001b[43mpp\u001b[49m\u001b[43m.\u001b[49m\u001b[43mrun\u001b[49m\u001b[43m(\u001b[49m\u001b[43minfodict\u001b[49m\u001b[43m)\u001b[49m\n\u001b[32m   3741\u001b[39m \u001b[38;5;28;01mexcept\u001b[39;00m PostProcessingError \u001b[38;5;28;01mas\u001b[39;00m e:\n\u001b[32m   3742\u001b[39m     \u001b[38;5;66;03m# Must be True and not 'only_download'\u001b[39;00m\n",
      "\u001b[36mFile \u001b[39m\u001b[32mc:\\Users\\gunit\\OneDrive\\Documents\\Study Material\\Practice Projects\\remote\\artificial-intelligence\\.venv\\Lib\\site-packages\\yt_dlp\\postprocessor\\common.py:23\u001b[39m, in \u001b[36mPostProcessorMetaClass.run_wrapper.<locals>.run\u001b[39m\u001b[34m(self, info, *args, **kwargs)\u001b[39m\n\u001b[32m     22\u001b[39m \u001b[38;5;28mself\u001b[39m._hook_progress({\u001b[33m'\u001b[39m\u001b[33mstatus\u001b[39m\u001b[33m'\u001b[39m: \u001b[33m'\u001b[39m\u001b[33mstarted\u001b[39m\u001b[33m'\u001b[39m}, info_copy)\n\u001b[32m---> \u001b[39m\u001b[32m23\u001b[39m ret = \u001b[43mfunc\u001b[49m\u001b[43m(\u001b[49m\u001b[38;5;28;43mself\u001b[39;49m\u001b[43m,\u001b[49m\u001b[43m \u001b[49m\u001b[43minfo\u001b[49m\u001b[43m,\u001b[49m\u001b[43m \u001b[49m\u001b[43m*\u001b[49m\u001b[43margs\u001b[49m\u001b[43m,\u001b[49m\u001b[43m \u001b[49m\u001b[43m*\u001b[49m\u001b[43m*\u001b[49m\u001b[43mkwargs\u001b[49m\u001b[43m)\u001b[49m\n\u001b[32m     24\u001b[39m \u001b[38;5;28;01mif\u001b[39;00m ret \u001b[38;5;129;01mis\u001b[39;00m \u001b[38;5;129;01mnot\u001b[39;00m \u001b[38;5;28;01mNone\u001b[39;00m:\n",
      "\u001b[36mFile \u001b[39m\u001b[32mc:\\Users\\gunit\\OneDrive\\Documents\\Study Material\\Practice Projects\\remote\\artificial-intelligence\\.venv\\Lib\\site-packages\\yt_dlp\\postprocessor\\common.py:128\u001b[39m, in \u001b[36mPostProcessor._restrict_to.<locals>.decorator.<locals>.wrapper\u001b[39m\u001b[34m(self, info)\u001b[39m\n\u001b[32m    127\u001b[39m \u001b[38;5;28;01mif\u001b[39;00m allowed[format_type]:\n\u001b[32m--> \u001b[39m\u001b[32m128\u001b[39m     \u001b[38;5;28;01mreturn\u001b[39;00m \u001b[43mfunc\u001b[49m\u001b[43m(\u001b[49m\u001b[38;5;28;43mself\u001b[39;49m\u001b[43m,\u001b[49m\u001b[43m \u001b[49m\u001b[43minfo\u001b[49m\u001b[43m)\u001b[49m\n\u001b[32m    129\u001b[39m \u001b[38;5;28;01melse\u001b[39;00m:\n",
      "\u001b[36mFile \u001b[39m\u001b[32mc:\\Users\\gunit\\OneDrive\\Documents\\Study Material\\Practice Projects\\remote\\artificial-intelligence\\.venv\\Lib\\site-packages\\yt_dlp\\postprocessor\\ffmpeg.py:493\u001b[39m, in \u001b[36mFFmpegExtractAudioPP.run\u001b[39m\u001b[34m(self, information)\u001b[39m\n\u001b[32m    491\u001b[39m     \u001b[38;5;28;01mreturn\u001b[39;00m [], information\n\u001b[32m--> \u001b[39m\u001b[32m493\u001b[39m filecodec = \u001b[38;5;28;43mself\u001b[39;49m\u001b[43m.\u001b[49m\u001b[43mget_audio_codec\u001b[49m\u001b[43m(\u001b[49m\u001b[43mpath\u001b[49m\u001b[43m)\u001b[49m\n\u001b[32m    494\u001b[39m \u001b[38;5;28;01mif\u001b[39;00m filecodec \u001b[38;5;129;01mis\u001b[39;00m \u001b[38;5;28;01mNone\u001b[39;00m:\n",
      "\u001b[36mFile \u001b[39m\u001b[32mc:\\Users\\gunit\\OneDrive\\Documents\\Study Material\\Practice Projects\\remote\\artificial-intelligence\\.venv\\Lib\\site-packages\\yt_dlp\\postprocessor\\ffmpeg.py:241\u001b[39m, in \u001b[36mFFmpegPostProcessor.get_audio_codec\u001b[39m\u001b[34m(self, path)\u001b[39m\n\u001b[32m    240\u001b[39m \u001b[38;5;28;01mif\u001b[39;00m \u001b[38;5;129;01mnot\u001b[39;00m \u001b[38;5;28mself\u001b[39m.probe_available \u001b[38;5;129;01mand\u001b[39;00m \u001b[38;5;129;01mnot\u001b[39;00m \u001b[38;5;28mself\u001b[39m.available:\n\u001b[32m--> \u001b[39m\u001b[32m241\u001b[39m     \u001b[38;5;28;01mraise\u001b[39;00m PostProcessingError(\u001b[33m'\u001b[39m\u001b[33mffprobe and ffmpeg not found. Please install or provide the path using --ffmpeg-location\u001b[39m\u001b[33m'\u001b[39m)\n\u001b[32m    242\u001b[39m \u001b[38;5;28;01mtry\u001b[39;00m:\n",
      "\u001b[31mPostProcessingError\u001b[39m: ffprobe and ffmpeg not found. Please install or provide the path using --ffmpeg-location",
      "\nDuring handling of the above exception, another exception occurred:\n",
      "\u001b[31mDownloadError\u001b[39m                             Traceback (most recent call last)",
      "\u001b[36mCell\u001b[39m\u001b[36m \u001b[39m\u001b[32mIn[7]\u001b[39m\u001b[32m, line 7\u001b[39m\n\u001b[32m      2\u001b[39m save_dir = \u001b[33mf\u001b[39m\u001b[33m\"\u001b[39m\u001b[38;5;132;01m{\u001b[39;00mdata_dir\u001b[38;5;132;01m}\u001b[39;00m\u001b[38;5;130;01m\\\\\u001b[39;00m\u001b[33mRAG\u001b[39m\u001b[38;5;130;01m\\\\\u001b[39;00m\u001b[33mYoutube\u001b[39m\u001b[33m\"\u001b[39m\n\u001b[32m      3\u001b[39m youtube_loader = GenericLoader(\n\u001b[32m      4\u001b[39m     blob_loader=YoutubeAudioLoader(youtube_video_urls, save_dir),\n\u001b[32m      5\u001b[39m     blob_parser=OpenAIWhisperParser()\n\u001b[32m      6\u001b[39m )\n\u001b[32m----> \u001b[39m\u001b[32m7\u001b[39m docs = \u001b[43myoutube_loader\u001b[49m\u001b[43m.\u001b[49m\u001b[43mload\u001b[49m\u001b[43m(\u001b[49m\u001b[43m)\u001b[49m\n",
      "\u001b[36mFile \u001b[39m\u001b[32mc:\\Users\\gunit\\OneDrive\\Documents\\Study Material\\Practice Projects\\remote\\artificial-intelligence\\.venv\\Lib\\site-packages\\langchain_core\\document_loaders\\base.py:32\u001b[39m, in \u001b[36mBaseLoader.load\u001b[39m\u001b[34m(self)\u001b[39m\n\u001b[32m     30\u001b[39m \u001b[38;5;28;01mdef\u001b[39;00m\u001b[38;5;250m \u001b[39m\u001b[34mload\u001b[39m(\u001b[38;5;28mself\u001b[39m) -> \u001b[38;5;28mlist\u001b[39m[Document]:\n\u001b[32m     31\u001b[39m \u001b[38;5;250m    \u001b[39m\u001b[33;03m\"\"\"Load data into Document objects.\"\"\"\u001b[39;00m\n\u001b[32m---> \u001b[39m\u001b[32m32\u001b[39m     \u001b[38;5;28;01mreturn\u001b[39;00m \u001b[38;5;28;43mlist\u001b[39;49m\u001b[43m(\u001b[49m\u001b[38;5;28;43mself\u001b[39;49m\u001b[43m.\u001b[49m\u001b[43mlazy_load\u001b[49m\u001b[43m(\u001b[49m\u001b[43m)\u001b[49m\u001b[43m)\u001b[49m\n",
      "\u001b[36mFile \u001b[39m\u001b[32mc:\\Users\\gunit\\OneDrive\\Documents\\Study Material\\Practice Projects\\remote\\artificial-intelligence\\.venv\\Lib\\site-packages\\langchain_community\\document_loaders\\generic.py:115\u001b[39m, in \u001b[36mGenericLoader.lazy_load\u001b[39m\u001b[34m(self)\u001b[39m\n\u001b[32m    111\u001b[39m \u001b[38;5;28;01mdef\u001b[39;00m\u001b[38;5;250m \u001b[39m\u001b[34mlazy_load\u001b[39m(\n\u001b[32m    112\u001b[39m     \u001b[38;5;28mself\u001b[39m,\n\u001b[32m    113\u001b[39m ) -> Iterator[Document]:\n\u001b[32m    114\u001b[39m \u001b[38;5;250m    \u001b[39m\u001b[33;03m\"\"\"Load documents lazily. Use this when working at a large scale.\"\"\"\u001b[39;00m\n\u001b[32m--> \u001b[39m\u001b[32m115\u001b[39m \u001b[43m    \u001b[49m\u001b[38;5;28;43;01mfor\u001b[39;49;00m\u001b[43m \u001b[49m\u001b[43mblob\u001b[49m\u001b[43m \u001b[49m\u001b[38;5;129;43;01min\u001b[39;49;00m\u001b[43m \u001b[49m\u001b[38;5;28;43mself\u001b[39;49m\u001b[43m.\u001b[49m\u001b[43mblob_loader\u001b[49m\u001b[43m.\u001b[49m\u001b[43myield_blobs\u001b[49m\u001b[43m(\u001b[49m\u001b[43m)\u001b[49m\u001b[43m:\u001b[49m\n\u001b[32m    116\u001b[39m \u001b[43m        \u001b[49m\u001b[38;5;28;43;01myield from\u001b[39;49;00m\u001b[43m \u001b[49m\u001b[38;5;28;43mself\u001b[39;49m\u001b[43m.\u001b[49m\u001b[43mblob_parser\u001b[49m\u001b[43m.\u001b[49m\u001b[43mlazy_parse\u001b[49m\u001b[43m(\u001b[49m\u001b[43mblob\u001b[49m\u001b[43m)\u001b[49m\n",
      "\u001b[36mFile \u001b[39m\u001b[32mc:\\Users\\gunit\\OneDrive\\Documents\\Study Material\\Practice Projects\\remote\\artificial-intelligence\\.venv\\Lib\\site-packages\\langchain_community\\document_loaders\\blob_loaders\\youtube_audio.py:43\u001b[39m, in \u001b[36mYoutubeAudioLoader.yield_blobs\u001b[39m\u001b[34m(self)\u001b[39m\n\u001b[32m     40\u001b[39m \u001b[38;5;28;01mfor\u001b[39;00m url \u001b[38;5;129;01min\u001b[39;00m \u001b[38;5;28mself\u001b[39m.urls:\n\u001b[32m     41\u001b[39m     \u001b[38;5;66;03m# Download file\u001b[39;00m\n\u001b[32m     42\u001b[39m     \u001b[38;5;28;01mwith\u001b[39;00m yt_dlp.YoutubeDL(ydl_opts) \u001b[38;5;28;01mas\u001b[39;00m ydl:\n\u001b[32m---> \u001b[39m\u001b[32m43\u001b[39m         \u001b[43mydl\u001b[49m\u001b[43m.\u001b[49m\u001b[43mdownload\u001b[49m\u001b[43m(\u001b[49m\u001b[43murl\u001b[49m\u001b[43m)\u001b[49m\n\u001b[32m     45\u001b[39m \u001b[38;5;66;03m# Yield the written blobs\u001b[39;00m\n\u001b[32m     46\u001b[39m loader = FileSystemBlobLoader(\u001b[38;5;28mself\u001b[39m.save_dir, glob=\u001b[33m\"\u001b[39m\u001b[33m*.m4a\u001b[39m\u001b[33m\"\u001b[39m)\n",
      "\u001b[36mFile \u001b[39m\u001b[32mc:\\Users\\gunit\\OneDrive\\Documents\\Study Material\\Practice Projects\\remote\\artificial-intelligence\\.venv\\Lib\\site-packages\\yt_dlp\\YoutubeDL.py:3644\u001b[39m, in \u001b[36mYoutubeDL.download\u001b[39m\u001b[34m(self, url_list)\u001b[39m\n\u001b[32m   3641\u001b[39m     \u001b[38;5;28;01mraise\u001b[39;00m SameFileError(outtmpl)\n\u001b[32m   3643\u001b[39m \u001b[38;5;28;01mfor\u001b[39;00m url \u001b[38;5;129;01min\u001b[39;00m url_list:\n\u001b[32m-> \u001b[39m\u001b[32m3644\u001b[39m     \u001b[38;5;28;43mself\u001b[39;49m\u001b[43m.\u001b[49m\u001b[43m__download_wrapper\u001b[49m\u001b[43m(\u001b[49m\u001b[38;5;28;43mself\u001b[39;49m\u001b[43m.\u001b[49m\u001b[43mextract_info\u001b[49m\u001b[43m)\u001b[49m\u001b[43m(\u001b[49m\n\u001b[32m   3645\u001b[39m \u001b[43m        \u001b[49m\u001b[43murl\u001b[49m\u001b[43m,\u001b[49m\u001b[43m \u001b[49m\u001b[43mforce_generic_extractor\u001b[49m\u001b[43m=\u001b[49m\u001b[38;5;28;43mself\u001b[39;49m\u001b[43m.\u001b[49m\u001b[43mparams\u001b[49m\u001b[43m.\u001b[49m\u001b[43mget\u001b[49m\u001b[43m(\u001b[49m\u001b[33;43m'\u001b[39;49m\u001b[33;43mforce_generic_extractor\u001b[39;49m\u001b[33;43m'\u001b[39;49m\u001b[43m,\u001b[49m\u001b[43m \u001b[49m\u001b[38;5;28;43;01mFalse\u001b[39;49;00m\u001b[43m)\u001b[49m\u001b[43m)\u001b[49m\n\u001b[32m   3647\u001b[39m \u001b[38;5;28;01mreturn\u001b[39;00m \u001b[38;5;28mself\u001b[39m._download_retcode\n",
      "\u001b[36mFile \u001b[39m\u001b[32mc:\\Users\\gunit\\OneDrive\\Documents\\Study Material\\Practice Projects\\remote\\artificial-intelligence\\.venv\\Lib\\site-packages\\yt_dlp\\YoutubeDL.py:3617\u001b[39m, in \u001b[36mYoutubeDL.__download_wrapper.<locals>.wrapper\u001b[39m\u001b[34m(*args, **kwargs)\u001b[39m\n\u001b[32m   3614\u001b[39m \u001b[38;5;129m@functools\u001b[39m.wraps(func)\n\u001b[32m   3615\u001b[39m \u001b[38;5;28;01mdef\u001b[39;00m\u001b[38;5;250m \u001b[39m\u001b[34mwrapper\u001b[39m(*args, **kwargs):\n\u001b[32m   3616\u001b[39m     \u001b[38;5;28;01mtry\u001b[39;00m:\n\u001b[32m-> \u001b[39m\u001b[32m3617\u001b[39m         res = \u001b[43mfunc\u001b[49m\u001b[43m(\u001b[49m\u001b[43m*\u001b[49m\u001b[43margs\u001b[49m\u001b[43m,\u001b[49m\u001b[43m \u001b[49m\u001b[43m*\u001b[49m\u001b[43m*\u001b[49m\u001b[43mkwargs\u001b[49m\u001b[43m)\u001b[49m\n\u001b[32m   3618\u001b[39m     \u001b[38;5;28;01mexcept\u001b[39;00m CookieLoadError:\n\u001b[32m   3619\u001b[39m         \u001b[38;5;28;01mraise\u001b[39;00m\n",
      "\u001b[36mFile \u001b[39m\u001b[32mc:\\Users\\gunit\\OneDrive\\Documents\\Study Material\\Practice Projects\\remote\\artificial-intelligence\\.venv\\Lib\\site-packages\\yt_dlp\\YoutubeDL.py:1651\u001b[39m, in \u001b[36mYoutubeDL.extract_info\u001b[39m\u001b[34m(self, url, download, ie_key, extra_info, process, force_generic_extractor)\u001b[39m\n\u001b[32m   1649\u001b[39m             \u001b[38;5;28;01mraise\u001b[39;00m ExistingVideoReached\n\u001b[32m   1650\u001b[39m         \u001b[38;5;28;01mbreak\u001b[39;00m\n\u001b[32m-> \u001b[39m\u001b[32m1651\u001b[39m     \u001b[38;5;28;01mreturn\u001b[39;00m \u001b[38;5;28;43mself\u001b[39;49m\u001b[43m.\u001b[49m\u001b[43m__extract_info\u001b[49m\u001b[43m(\u001b[49m\u001b[43murl\u001b[49m\u001b[43m,\u001b[49m\u001b[43m \u001b[49m\u001b[38;5;28;43mself\u001b[39;49m\u001b[43m.\u001b[49m\u001b[43mget_info_extractor\u001b[49m\u001b[43m(\u001b[49m\u001b[43mkey\u001b[49m\u001b[43m)\u001b[49m\u001b[43m,\u001b[49m\u001b[43m \u001b[49m\u001b[43mdownload\u001b[49m\u001b[43m,\u001b[49m\u001b[43m \u001b[49m\u001b[43mextra_info\u001b[49m\u001b[43m,\u001b[49m\u001b[43m \u001b[49m\u001b[43mprocess\u001b[49m\u001b[43m)\u001b[49m\n\u001b[32m   1652\u001b[39m \u001b[38;5;28;01melse\u001b[39;00m:\n\u001b[32m   1653\u001b[39m     extractors_restricted = \u001b[38;5;28mself\u001b[39m.params.get(\u001b[33m'\u001b[39m\u001b[33mallowed_extractors\u001b[39m\u001b[33m'\u001b[39m) \u001b[38;5;129;01mnot\u001b[39;00m \u001b[38;5;129;01min\u001b[39;00m (\u001b[38;5;28;01mNone\u001b[39;00m, [\u001b[33m'\u001b[39m\u001b[33mdefault\u001b[39m\u001b[33m'\u001b[39m])\n",
      "\u001b[36mFile \u001b[39m\u001b[32mc:\\Users\\gunit\\OneDrive\\Documents\\Study Material\\Practice Projects\\remote\\artificial-intelligence\\.venv\\Lib\\site-packages\\yt_dlp\\YoutubeDL.py:1662\u001b[39m, in \u001b[36mYoutubeDL._handle_extraction_exceptions.<locals>.wrapper\u001b[39m\u001b[34m(self, *args, **kwargs)\u001b[39m\n\u001b[32m   1660\u001b[39m \u001b[38;5;28;01mwhile\u001b[39;00m \u001b[38;5;28;01mTrue\u001b[39;00m:\n\u001b[32m   1661\u001b[39m     \u001b[38;5;28;01mtry\u001b[39;00m:\n\u001b[32m-> \u001b[39m\u001b[32m1662\u001b[39m         \u001b[38;5;28;01mreturn\u001b[39;00m \u001b[43mfunc\u001b[49m\u001b[43m(\u001b[49m\u001b[38;5;28;43mself\u001b[39;49m\u001b[43m,\u001b[49m\u001b[43m \u001b[49m\u001b[43m*\u001b[49m\u001b[43margs\u001b[49m\u001b[43m,\u001b[49m\u001b[43m \u001b[49m\u001b[43m*\u001b[49m\u001b[43m*\u001b[49m\u001b[43mkwargs\u001b[49m\u001b[43m)\u001b[49m\n\u001b[32m   1663\u001b[39m     \u001b[38;5;28;01mexcept\u001b[39;00m (CookieLoadError, DownloadCancelled, LazyList.IndexError, PagedList.IndexError):\n\u001b[32m   1664\u001b[39m         \u001b[38;5;28;01mraise\u001b[39;00m\n",
      "\u001b[36mFile \u001b[39m\u001b[32mc:\\Users\\gunit\\OneDrive\\Documents\\Study Material\\Practice Projects\\remote\\artificial-intelligence\\.venv\\Lib\\site-packages\\yt_dlp\\YoutubeDL.py:1818\u001b[39m, in \u001b[36mYoutubeDL.__extract_info\u001b[39m\u001b[34m(self, url, ie, download, extra_info, process)\u001b[39m\n\u001b[32m   1816\u001b[39m \u001b[38;5;28;01mif\u001b[39;00m process:\n\u001b[32m   1817\u001b[39m     \u001b[38;5;28mself\u001b[39m._wait_for_video(ie_result)\n\u001b[32m-> \u001b[39m\u001b[32m1818\u001b[39m     \u001b[38;5;28;01mreturn\u001b[39;00m \u001b[38;5;28;43mself\u001b[39;49m\u001b[43m.\u001b[49m\u001b[43mprocess_ie_result\u001b[49m\u001b[43m(\u001b[49m\u001b[43mie_result\u001b[49m\u001b[43m,\u001b[49m\u001b[43m \u001b[49m\u001b[43mdownload\u001b[49m\u001b[43m,\u001b[49m\u001b[43m \u001b[49m\u001b[43mextra_info\u001b[49m\u001b[43m)\u001b[49m\n\u001b[32m   1819\u001b[39m \u001b[38;5;28;01melse\u001b[39;00m:\n\u001b[32m   1820\u001b[39m     \u001b[38;5;28;01mreturn\u001b[39;00m ie_result\n",
      "\u001b[36mFile \u001b[39m\u001b[32mc:\\Users\\gunit\\OneDrive\\Documents\\Study Material\\Practice Projects\\remote\\artificial-intelligence\\.venv\\Lib\\site-packages\\yt_dlp\\YoutubeDL.py:1877\u001b[39m, in \u001b[36mYoutubeDL.process_ie_result\u001b[39m\u001b[34m(self, ie_result, download, extra_info)\u001b[39m\n\u001b[32m   1875\u001b[39m \u001b[38;5;28;01mif\u001b[39;00m result_type == \u001b[33m'\u001b[39m\u001b[33mvideo\u001b[39m\u001b[33m'\u001b[39m:\n\u001b[32m   1876\u001b[39m     \u001b[38;5;28mself\u001b[39m.add_extra_info(ie_result, extra_info)\n\u001b[32m-> \u001b[39m\u001b[32m1877\u001b[39m     ie_result = \u001b[38;5;28;43mself\u001b[39;49m\u001b[43m.\u001b[49m\u001b[43mprocess_video_result\u001b[49m\u001b[43m(\u001b[49m\u001b[43mie_result\u001b[49m\u001b[43m,\u001b[49m\u001b[43m \u001b[49m\u001b[43mdownload\u001b[49m\u001b[43m=\u001b[49m\u001b[43mdownload\u001b[49m\u001b[43m)\u001b[49m\n\u001b[32m   1878\u001b[39m     \u001b[38;5;28mself\u001b[39m._raise_pending_errors(ie_result)\n\u001b[32m   1879\u001b[39m     additional_urls = (ie_result \u001b[38;5;129;01mor\u001b[39;00m {}).get(\u001b[33m'\u001b[39m\u001b[33madditional_urls\u001b[39m\u001b[33m'\u001b[39m)\n",
      "\u001b[36mFile \u001b[39m\u001b[32mc:\\Users\\gunit\\OneDrive\\Documents\\Study Material\\Practice Projects\\remote\\artificial-intelligence\\.venv\\Lib\\site-packages\\yt_dlp\\YoutubeDL.py:3050\u001b[39m, in \u001b[36mYoutubeDL.process_video_result\u001b[39m\u001b[34m(self, info_dict, download)\u001b[39m\n\u001b[32m   3048\u001b[39m downloaded_formats.append(new_info)\n\u001b[32m   3049\u001b[39m \u001b[38;5;28;01mtry\u001b[39;00m:\n\u001b[32m-> \u001b[39m\u001b[32m3050\u001b[39m     \u001b[38;5;28;43mself\u001b[39;49m\u001b[43m.\u001b[49m\u001b[43mprocess_info\u001b[49m\u001b[43m(\u001b[49m\u001b[43mnew_info\u001b[49m\u001b[43m)\u001b[49m\n\u001b[32m   3051\u001b[39m \u001b[38;5;28;01mexcept\u001b[39;00m MaxDownloadsReached:\n\u001b[32m   3052\u001b[39m     max_downloads_reached = \u001b[38;5;28;01mTrue\u001b[39;00m\n",
      "\u001b[36mFile \u001b[39m\u001b[32mc:\\Users\\gunit\\OneDrive\\Documents\\Study Material\\Practice Projects\\remote\\artificial-intelligence\\.venv\\Lib\\site-packages\\yt_dlp\\YoutubeDL.py:185\u001b[39m, in \u001b[36m_catch_unsafe_extension_error.<locals>.wrapper\u001b[39m\u001b[34m(self, *args, **kwargs)\u001b[39m\n\u001b[32m    182\u001b[39m \u001b[38;5;129m@functools\u001b[39m.wraps(func)\n\u001b[32m    183\u001b[39m \u001b[38;5;28;01mdef\u001b[39;00m\u001b[38;5;250m \u001b[39m\u001b[34mwrapper\u001b[39m(\u001b[38;5;28mself\u001b[39m, *args, **kwargs):\n\u001b[32m    184\u001b[39m     \u001b[38;5;28;01mtry\u001b[39;00m:\n\u001b[32m--> \u001b[39m\u001b[32m185\u001b[39m         \u001b[38;5;28;01mreturn\u001b[39;00m \u001b[43mfunc\u001b[49m\u001b[43m(\u001b[49m\u001b[38;5;28;43mself\u001b[39;49m\u001b[43m,\u001b[49m\u001b[43m \u001b[49m\u001b[43m*\u001b[49m\u001b[43margs\u001b[49m\u001b[43m,\u001b[49m\u001b[43m \u001b[49m\u001b[43m*\u001b[49m\u001b[43m*\u001b[49m\u001b[43mkwargs\u001b[49m\u001b[43m)\u001b[49m\n\u001b[32m    186\u001b[39m     \u001b[38;5;28;01mexcept\u001b[39;00m _UnsafeExtensionError \u001b[38;5;28;01mas\u001b[39;00m error:\n\u001b[32m    187\u001b[39m         \u001b[38;5;28mself\u001b[39m.report_error(\n\u001b[32m    188\u001b[39m             \u001b[33mf\u001b[39m\u001b[33m'\u001b[39m\u001b[33mThe extracted extension (\u001b[39m\u001b[38;5;132;01m{\u001b[39;00merror.extension\u001b[38;5;132;01m!r}\u001b[39;00m\u001b[33m) is unusual \u001b[39m\u001b[33m'\u001b[39m\n\u001b[32m    189\u001b[39m             \u001b[33m'\u001b[39m\u001b[33mand will be skipped for safety reasons. \u001b[39m\u001b[33m'\u001b[39m\n\u001b[32m    190\u001b[39m             \u001b[33mf\u001b[39m\u001b[33m'\u001b[39m\u001b[33mIf you believe this is an error\u001b[39m\u001b[38;5;132;01m{\u001b[39;00mbug_reports_message(\u001b[33m\"\u001b[39m\u001b[33m,\u001b[39m\u001b[33m\"\u001b[39m)\u001b[38;5;132;01m}\u001b[39;00m\u001b[33m'\u001b[39m)\n",
      "\u001b[36mFile \u001b[39m\u001b[32mc:\\Users\\gunit\\OneDrive\\Documents\\Study Material\\Practice Projects\\remote\\artificial-intelligence\\.venv\\Lib\\site-packages\\yt_dlp\\YoutubeDL.py:3598\u001b[39m, in \u001b[36mYoutubeDL.process_info\u001b[39m\u001b[34m(self, info_dict)\u001b[39m\n\u001b[32m   3596\u001b[39m     replace_info_dict(\u001b[38;5;28mself\u001b[39m.post_process(dl_filename, info_dict, files_to_move))\n\u001b[32m   3597\u001b[39m \u001b[38;5;28;01mexcept\u001b[39;00m PostProcessingError \u001b[38;5;28;01mas\u001b[39;00m err:\n\u001b[32m-> \u001b[39m\u001b[32m3598\u001b[39m     \u001b[38;5;28;43mself\u001b[39;49m\u001b[43m.\u001b[49m\u001b[43mreport_error\u001b[49m\u001b[43m(\u001b[49m\u001b[33;43mf\u001b[39;49m\u001b[33;43m'\u001b[39;49m\u001b[33;43mPostprocessing: \u001b[39;49m\u001b[38;5;132;43;01m{\u001b[39;49;00m\u001b[43merr\u001b[49m\u001b[38;5;132;43;01m}\u001b[39;49;00m\u001b[33;43m'\u001b[39;49m\u001b[43m)\u001b[49m\n\u001b[32m   3599\u001b[39m     \u001b[38;5;28;01mreturn\u001b[39;00m\n\u001b[32m   3600\u001b[39m \u001b[38;5;28;01mtry\u001b[39;00m:\n",
      "\u001b[36mFile \u001b[39m\u001b[32mc:\\Users\\gunit\\OneDrive\\Documents\\Study Material\\Practice Projects\\remote\\artificial-intelligence\\.venv\\Lib\\site-packages\\yt_dlp\\YoutubeDL.py:1120\u001b[39m, in \u001b[36mYoutubeDL.report_error\u001b[39m\u001b[34m(self, message, *args, **kwargs)\u001b[39m\n\u001b[32m   1115\u001b[39m \u001b[38;5;28;01mdef\u001b[39;00m\u001b[38;5;250m \u001b[39m\u001b[34mreport_error\u001b[39m(\u001b[38;5;28mself\u001b[39m, message, *args, **kwargs):\n\u001b[32m   1116\u001b[39m \u001b[38;5;250m    \u001b[39m\u001b[33;03m\"\"\"\u001b[39;00m\n\u001b[32m   1117\u001b[39m \u001b[33;03m    Do the same as trouble, but prefixes the message with 'ERROR:', colored\u001b[39;00m\n\u001b[32m   1118\u001b[39m \u001b[33;03m    in red if stderr is a tty file.\u001b[39;00m\n\u001b[32m   1119\u001b[39m \u001b[33;03m    \"\"\"\u001b[39;00m\n\u001b[32m-> \u001b[39m\u001b[32m1120\u001b[39m     \u001b[38;5;28;43mself\u001b[39;49m\u001b[43m.\u001b[49m\u001b[43mtrouble\u001b[49m\u001b[43m(\u001b[49m\u001b[33;43mf\u001b[39;49m\u001b[33;43m'\u001b[39;49m\u001b[38;5;132;43;01m{\u001b[39;49;00m\u001b[38;5;28;43mself\u001b[39;49m\u001b[43m.\u001b[49m\u001b[43m_format_err\u001b[49m\u001b[43m(\u001b[49m\u001b[33;43m\"\u001b[39;49m\u001b[33;43mERROR:\u001b[39;49m\u001b[33;43m\"\u001b[39;49m\u001b[43m,\u001b[49m\u001b[38;5;250;43m \u001b[39;49m\u001b[38;5;28;43mself\u001b[39;49m\u001b[43m.\u001b[49m\u001b[43mStyles\u001b[49m\u001b[43m.\u001b[49m\u001b[43mERROR\u001b[49m\u001b[43m)\u001b[49m\u001b[38;5;132;43;01m}\u001b[39;49;00m\u001b[33;43m \u001b[39;49m\u001b[38;5;132;43;01m{\u001b[39;49;00m\u001b[43mmessage\u001b[49m\u001b[38;5;132;43;01m}\u001b[39;49;00m\u001b[33;43m'\u001b[39;49m\u001b[43m,\u001b[49m\u001b[43m \u001b[49m\u001b[43m*\u001b[49m\u001b[43margs\u001b[49m\u001b[43m,\u001b[49m\u001b[43m \u001b[49m\u001b[43m*\u001b[49m\u001b[43m*\u001b[49m\u001b[43mkwargs\u001b[49m\u001b[43m)\u001b[49m\n",
      "\u001b[36mFile \u001b[39m\u001b[32mc:\\Users\\gunit\\OneDrive\\Documents\\Study Material\\Practice Projects\\remote\\artificial-intelligence\\.venv\\Lib\\site-packages\\yt_dlp\\YoutubeDL.py:1059\u001b[39m, in \u001b[36mYoutubeDL.trouble\u001b[39m\u001b[34m(self, message, tb, is_error)\u001b[39m\n\u001b[32m   1057\u001b[39m     \u001b[38;5;28;01melse\u001b[39;00m:\n\u001b[32m   1058\u001b[39m         exc_info = sys.exc_info()\n\u001b[32m-> \u001b[39m\u001b[32m1059\u001b[39m     \u001b[38;5;28;01mraise\u001b[39;00m DownloadError(message, exc_info)\n\u001b[32m   1060\u001b[39m \u001b[38;5;28mself\u001b[39m._download_retcode = \u001b[32m1\u001b[39m\n",
      "\u001b[31mDownloadError\u001b[39m: ERROR: Postprocessing: ffprobe and ffmpeg not found. Please install or provide the path using --ffmpeg-location"
     ]
    }
   ],
   "source": [
    "youtube_video_urls = [\"https://www.youtube.com/watch?v=YUAd-kefT0w\"]\n",
    "save_dir = f\"{data_dir}\\\\RAG\\\\Youtube\"\n",
    "youtube_loader = GenericLoader(\n",
    "    blob_loader=YoutubeAudioLoader(youtube_video_urls, save_dir),\n",
    "    blob_parser=OpenAIWhisperParser()\n",
    ")\n",
    "docs = youtube_loader.load()"
   ]
  }
 ],
 "metadata": {
  "kernelspec": {
   "display_name": ".venv",
   "language": "python",
   "name": "python3"
  },
  "language_info": {
   "codemirror_mode": {
    "name": "ipython",
    "version": 3
   },
   "file_extension": ".py",
   "mimetype": "text/x-python",
   "name": "python",
   "nbconvert_exporter": "python",
   "pygments_lexer": "ipython3",
   "version": "3.11.7"
  }
 },
 "nbformat": 4,
 "nbformat_minor": 5
}
