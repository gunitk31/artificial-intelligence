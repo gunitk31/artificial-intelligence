{
 "cells": [
  {
   "cell_type": "code",
   "execution_count": 1,
   "id": "b7ac0948",
   "metadata": {},
   "outputs": [],
   "source": [
    "import os\n",
    "import openai\n",
    "\n",
    "from dotenv import load_dotenv, find_dotenv\n",
    "_ = load_dotenv(find_dotenv()) # read local .env file\n",
    "\n",
    "openai.api_key  = os.environ['OPENAI_API_KEY']\n",
    "\n",
    "data_dir = os.environ['DATA_DIR']"
   ]
  },
  {
   "cell_type": "markdown",
   "id": "3ede7fe0",
   "metadata": {},
   "source": [
    "# PDF Document Loader"
   ]
  },
  {
   "cell_type": "code",
   "execution_count": 2,
   "id": "7ecc7170",
   "metadata": {},
   "outputs": [],
   "source": [
    "from langchain.document_loaders import PyPDFLoader\n",
    "loader = PyPDFLoader(f\"{data_dir}\\\\RAG\\\\PDF\\\\machinelearning-lecture01.pdf\")\n",
    "pages = loader.load()"
   ]
  },
  {
   "cell_type": "code",
   "execution_count": 3,
   "id": "7070862e",
   "metadata": {},
   "outputs": [
    {
     "data": {
      "text/plain": [
       "22"
      ]
     },
     "execution_count": 3,
     "metadata": {},
     "output_type": "execute_result"
    }
   ],
   "source": [
    "len(pages)"
   ]
  },
  {
   "cell_type": "code",
   "execution_count": 4,
   "id": "21f1f3c1",
   "metadata": {},
   "outputs": [
    {
     "name": "stdout",
     "output_type": "stream",
     "text": [
      "MachineLearning-Lecture01  \n",
      "Instructor (Andrew Ng): Okay. Good morning. Welcome to CS229, the machine \n",
      "learning class. So what I wanna do today is just spend a little time going over the logistics \n",
      "of the class, and then we'll start to talk a bit about machine learning.  \n",
      "By way of introduction, my name's Andrew Ng and I'll be instructor for this class. And so \n",
      "I personally work in machine learning, and I've worked on it for about 15 years now, and \n",
      "I actually think that machine learning is the most exciting field of all the computer \n",
      "sciences. So I'm actually always excited about teaching this class. Sometimes I actually \n",
      "think that machine learning is not only the most exciting thing in computer science, but \n",
      "the most exciting thing in all of human endeavor, so maybe a little bias there.  \n",
      "I also want to introduce the TAs, who are all graduate students doing research in or \n",
      "related to the machine learning and all aspects of machine learning. Paul Baumstarck \n",
      "works in machine learning and computer vision. Catie Chang is actually a neuroscientist \n",
      "who applies machine learning algorithms to try to understand the human brain. Tom Do \n",
      "is another PhD student, works in computational biology and in sort of the basic \n",
      "fundamentals of human learning. Zico Kolter is the head TA — he's head TA two years \n",
      "in a row now — works in machine learning a nd applies them to a bunch of robots. And \n",
      "Daniel Ramage is — I guess he's not here  — Daniel applies l earning algorithms to \n",
      "problems in natural language processing.  \n",
      "So you'll get to know the TAs and me much better throughout this quarter, but just from \n",
      "the sorts of things the TA's do, I hope you can already tell that machine learning is a \n",
      "highly interdisciplinary topic in which just the TAs find learning algorithms to problems \n",
      "in computer vision and biology and robots and language. And machine learning is one of \n",
      "those things that has and is having a large impact on many applications.  \n",
      "So just in my own daily work, I actually frequently end up talking to people like \n",
      "helicopter pilots to biologists to people in computer systems or databases to economists \n",
      "and sort of also an unending stream of people from industry coming to Stanford \n",
      "interested in applying machine learning methods to their own problems.  \n",
      "So yeah, this is fun. A couple of weeks ago, a student actually forwarded to me an article \n",
      "in \"Computer World\" about the 12 IT skills that employers can't say no to. So it's about \n",
      "sort of the 12 most desirable skills in all of IT and all of information technology, and \n",
      "topping the list was actually machine learning. So I think this is a good time to be \n",
      "learning this stuff and learning algorithms and having a large impact on many segments \n",
      "of science and industry.  \n",
      "I'm actually curious about something. Learning algorithms is one of the things that \n",
      "touches many areas of science and industries, and I'm just kind of curious. How many \n",
      "people here are computer science majors, are in the computer science department? Okay. \n",
      "About half of you. How many people are from EE? Oh, okay, maybe about a fifth. How\n"
     ]
    }
   ],
   "source": [
    "page = pages[0]\n",
    "print(page.page_content)"
   ]
  },
  {
   "cell_type": "code",
   "execution_count": 5,
   "id": "2e01257b",
   "metadata": {},
   "outputs": [
    {
     "data": {
      "text/plain": [
       "{'producer': 'Acrobat Distiller 8.1.0 (Windows)',\n",
       " 'creator': 'PScript5.dll Version 5.2.2',\n",
       " 'creationdate': '2008-07-11T11:25:23-07:00',\n",
       " 'author': '',\n",
       " 'moddate': '2008-07-11T11:25:23-07:00',\n",
       " 'title': '',\n",
       " 'source': 'C:\\\\\\\\Users\\\\\\\\gunit\\\\\\\\OneDrive\\\\\\\\Documents\\\\\\\\Study Material\\\\\\\\Practice Projects\\\\\\\\remote\\\\\\\\artificial-intelligence\\\\\\\\data\\\\RAG\\\\PDF\\\\machinelearning-lecture01.pdf',\n",
       " 'total_pages': 22,\n",
       " 'page': 0,\n",
       " 'page_label': '1'}"
      ]
     },
     "execution_count": 5,
     "metadata": {},
     "output_type": "execute_result"
    }
   ],
   "source": [
    "page.metadata"
   ]
  },
  {
   "cell_type": "markdown",
   "id": "874d4dd8",
   "metadata": {},
   "source": [
    "# Youtube Loader"
   ]
  },
  {
   "cell_type": "code",
   "execution_count": null,
   "id": "3967f6e0",
   "metadata": {},
   "outputs": [],
   "source": [
    "from langchain.document_loaders.generic import GenericLoader\n",
    "from langchain.document_loaders.parsers import OpenAIWhisperParser\n",
    "from langchain.document_loaders.blob_loaders.youtube_audio import YoutubeAudioLoader"
   ]
  },
  {
   "cell_type": "code",
   "execution_count": 7,
   "id": "7e36b190",
   "metadata": {},
   "outputs": [
    {
     "name": "stdout",
     "output_type": "stream",
     "text": [
      "[youtube] Extracting URL: https://www.youtube.com/watch?v=YUAd-kefT0w\n",
      "[youtube] YUAd-kefT0w: Downloading webpage\n",
      "[youtube] YUAd-kefT0w: Downloading webpage\n",
      "[youtube] YUAd-kefT0w: Downloading tv client config\n",
      "[youtube] YUAd-kefT0w: Downloading tv client config\n",
      "[youtube] YUAd-kefT0w: Downloading tv player API JSON\n",
      "[youtube] YUAd-kefT0w: Downloading tv player API JSON\n",
      "[youtube] YUAd-kefT0w: Downloading ios player API JSON\n",
      "[youtube] YUAd-kefT0w: Downloading ios player API JSON\n",
      "[youtube] YUAd-kefT0w: Downloading m3u8 information\n",
      "[youtube] YUAd-kefT0w: Downloading m3u8 information\n",
      "[info] YUAd-kefT0w: Downloading 1 format(s): 140\n",
      "[download] C:\\Users\\gunit\\OneDrive\\Documents\\Study Material\\Practice Projects\\remote\\artificial-intelligence\\data\\RAG\\Youtube\\The Acting Game with Dakota Johnson.m4a has already been downloaded\n",
      "[download] 100% of    5.26MiB\n",
      "[info] YUAd-kefT0w: Downloading 1 format(s): 140\n",
      "[download] C:\\Users\\gunit\\OneDrive\\Documents\\Study Material\\Practice Projects\\remote\\artificial-intelligence\\data\\RAG\\Youtube\\The Acting Game with Dakota Johnson.m4a has already been downloaded\n",
      "[download] 100% of    5.26MiB\n",
      "[ExtractAudio] Not converting audio C:\\Users\\gunit\\OneDrive\\Documents\\Study Material\\Practice Projects\\remote\\artificial-intelligence\\data\\RAG\\Youtube\\The Acting Game with Dakota Johnson.m4a; file is already in target format m4a\n",
      "[ExtractAudio] Not converting audio C:\\Users\\gunit\\OneDrive\\Documents\\Study Material\\Practice Projects\\remote\\artificial-intelligence\\data\\RAG\\Youtube\\The Acting Game with Dakota Johnson.m4a; file is already in target format m4a\n",
      "Transcribing part 1!\n",
      "Transcribing part 1!\n"
     ]
    }
   ],
   "source": [
    "youtube_video_urls = [\"https://www.youtube.com/watch?v=YUAd-kefT0w\"]\n",
    "save_dir = f\"{data_dir}\\\\RAG\\\\Youtube\"\n",
    "youtube_loader = GenericLoader(\n",
    "    blob_loader=YoutubeAudioLoader(youtube_video_urls, save_dir),\n",
    "    blob_parser=OpenAIWhisperParser()\n",
    ")\n",
    "docs = youtube_loader.load()"
   ]
  },
  {
   "cell_type": "code",
   "execution_count": 10,
   "id": "c227aba9",
   "metadata": {},
   "outputs": [
    {
     "name": "stdout",
     "output_type": "stream",
     "text": [
      "Dakota, you were telling me about this game that you play with your friends. And it's a new game you wanted to teach to me. And we're always down for a new game that we can all play. Yeah. And what is the name of this game? I don't know, because it's not a real name. None of your games have a name, really. It's not a real name. What is it? It's called The Acting Game. Okay. Acting Game. Basically, The Acting Game, because, well, I played it. I only played it once, just so you know. Okay. But was it fun? It was over the holidays with my family and some friends. Oh, good. Well, it involves a phone. Basically, you get a fake scenario, and you have to answer the phone and act out the scenario. Also, this phone matches my dress, so... Just perfectly. ...so it was supposed to be here tonight. AT&T made my dress tonight, so I want to thank everyone there. AT&T also made this phone. AT&T, they also make the phone accessory. This is a handbag, so it's just going out with your friends. Oh, what's going on? Hold on. Let me get a little lip balm. Sorry. All right, so it is a beautiful dress, by the way. Who makes the dress? Gucci. I don't know. All right, here's the deal. So what is the rules? Gucci made this phone, too, by the way. What is the game? How does it go again? So I'm going to read a scenario. Okay. Or a scenario, however you say it at home. That's half the fun of the game. What did I say? Same scenario, scenario. And then you answer the phone, reacting to what happens. Okay. Ready? Yeah. And I'll say, ring, ring, after I read the scenario. Okay. It's your fiance, Darth Vader, calling to tell you he's leaving you for another woman. Okay. Ring, ring, ring, ring. Hello? Hi, babe. Did you just wake up? Oh. You're what? Where are you? Who the... Hang on. Hang up the phone. Hang up the phone. Hang up the phone. This game. I see where this game is, because it's a little to the adult game. It's an adult game. All right, let's switch. Now, you read the scenario. And I will answer the phone, yeah. Okay. Okay, I'm going to say, ring, ring, when I'm done. Just stick to those words, yeah. Okay. You're a famous chef, and someone from your kitchen calls timidly, asking for your special turkey stuffing recipe, which they've lost again. Special turkey recipe? What? Turkey stuffing recipe. Turkey stuffing recipe. Okay, good. I'm a famous chef. Okay, okay. The phone has not rung all night. I can't believe no one is calling me at all. This is a great party. I'm having a great time. But we're quick. We have to get to table number 53, or else we're going to close the whole place. Be quiet, everyone. I think there's something happening. Is someone playing a video game or something from the... Hold on. This is my ringtone. It's the hustle. Do the hustle. Da-da-dee-da-da-da-da-da-da-da. Hold on. Hello? It is me, Jacques, speaking. Yeah? Sacre bleu. Sacre bleu. I have to do table 53. Why would you call me? The turkey stuffing. You take a celery. Shove it on the turkey's butt. You take a now Middle Eastern. I'm Middle Eastern now. You take that. You take the potato. You shove it on the turkey's butt. What do you want from me? What do you want from me, my friend? You shove it up the turkey's butt, whatever you have. You shove it up the turkey's butt. Sacre bleu. Goodbye. Table 53. Get down there right now. Table 53. That was better than mine. It was lame, right? Better. It was very lame. Like you said it very nicely. All right, here we go. This is the last one here. Ready for this? Dakota? You're about to get a call with news that you've been rejected from clown school. This is your one shot to convince them to change their minds. Okay. Ring, ring. I know where the hell I'm at. But I don't know the name of that. Where's my... Ring, ring. Hello? Oh, yes, this is Bubbles. Um... Wait, what? No, no. But... Why? What's the reason? Because I couldn't do the balloon dog? Really? What am I going to tell my dad? What am I going to tell my dad? No, yes, he's Big Laughs. My dad is Big Laughs. I'm Bubbles. What am I going to do? Your name is Big Laughs? Yeah, my dad. I'm sorry. You got the job now. I'll see you in clown school. Okay. Just kidding. I'm a clown. Goodbye. I love you. Dakota Johnson, everybody.\n"
     ]
    }
   ],
   "source": [
    "doc = docs[0]\n",
    "print(doc.page_content)"
   ]
  },
  {
   "cell_type": "code",
   "execution_count": 11,
   "id": "6fe62eeb",
   "metadata": {},
   "outputs": [
    {
     "data": {
      "text/plain": [
       "{'source': 'C:\\\\Users\\\\gunit\\\\OneDrive\\\\Documents\\\\Study Material\\\\Practice Projects\\\\remote\\\\artificial-intelligence\\\\data\\\\RAG\\\\Youtube\\\\The Acting Game with Dakota Johnson.m4a',\n",
       " 'chunk': 0}"
      ]
     },
     "execution_count": 11,
     "metadata": {},
     "output_type": "execute_result"
    }
   ],
   "source": [
    "doc.metadata"
   ]
  },
  {
   "cell_type": "markdown",
   "id": "253230ca",
   "metadata": {},
   "source": [
    "# Web Based Loader"
   ]
  },
  {
   "cell_type": "code",
   "execution_count": 12,
   "id": "f9a3d47a",
   "metadata": {},
   "outputs": [
    {
     "name": "stderr",
     "output_type": "stream",
     "text": [
      "USER_AGENT environment variable not set, consider setting it to identify your requests.\n"
     ]
    },
    {
     "name": "stdout",
     "output_type": "stream",
     "text": [
      "\n",
      "\n",
      "\n",
      "\n",
      "\n",
      "\n",
      "\n",
      "\n",
      "\n",
      "\n",
      "\n",
      "\n",
      "\n",
      "\n",
      "\n",
      "\n",
      "\n",
      "\n",
      "\n",
      "\n",
      "\n",
      "\n",
      "\n",
      "\n",
      "\n",
      "\n",
      "PEFT\n",
      "\n",
      "\n",
      "\n",
      "\n",
      "\n",
      "\n",
      "\n",
      "\n",
      "Hugging Face\n",
      "\n",
      "\n",
      "\n",
      "\n",
      "\n",
      "\n",
      "\n",
      "\t\t\t\t\t\tModels\n",
      "\n",
      "\t\t\t\t\t\tDatasets\n",
      "\n",
      "\t\t\t\t\t\tSpaces\n",
      "\n",
      "\n",
      "\n",
      "\t\t\tCommunity\n",
      "\t\t\n",
      "\n",
      "\n",
      "\t\t\t\t\t\tDocs\n",
      "\n",
      "\t\t\t\t\t\tEnterprise\n",
      "\n",
      "Pricing\n",
      "\t\t\t\n",
      "\n",
      "\n",
      "\n",
      "\n",
      "\n",
      "\n",
      "Log In\n",
      "\t\t\t\t\n",
      "Sign Up\n",
      "\t\t\t\t\t\n",
      "\n",
      "\n",
      "\n",
      "PEFT documentation\n",
      "\t\t\t\n",
      "PEFT\n",
      "\n",
      "\n",
      "\n",
      "PEFT\n",
      "\n",
      "🏡 View all docsAWS Trainium & InferentiaAccelerateArgillaAutoTrainBitsandbytesChat UIDataset viewerDatasetsDeploying on AWSDiffusersDistilabelEvaluateGradioHubHub Python LibraryHuggingface.jsInference Endpoints (dedicated)Inference ProvidersLeRobotLeaderboardsLightevalMicrosoft AzureOptimumPEFTSafetensorsSentence TransformersTRLTasksText Embeddings InferenceText Generation InferenceTokenizersTransformersTransformers.jssmolagentstimm\n",
      "\n",
      "Search documentation\n",
      "\n",
      "\n",
      "mainv0.16.0v0.15.0v0.14.0v0.13.0v0.12.0v0.11.0v0.10.0v0.9.0v0.8.2v0.7.1v0.6.2\n",
      "EN\n",
      "\n",
      "\n",
      "\n",
      "\n",
      "\n",
      "\n",
      "\n",
      "\n",
      "Get started\n",
      "\n",
      "\n",
      "🤗 PEFT\n",
      "Quicktour\n",
      "Installation\n",
      "\n",
      "\n",
      "Tutorial\n",
      "\n",
      "\n",
      "Configurations and models\n",
      "Integrations\n",
      "\n",
      "\n",
      "PEFT method guides\n",
      "\n",
      "\n",
      "Prompt-based methods\n",
      "LoRA methods\n",
      "IA3\n",
      "\n",
      "\n",
      "Developer guides\n",
      "\n",
      "\n",
      "Model merging\n",
      "Quantization\n",
      "LoRA\n",
      "Custom models\n",
      "Adapter injection\n",
      "Mixed adapter types\n",
      "torch.compile\n",
      "Contribute to PEFT\n",
      "Troubleshooting\n",
      "PEFT checkpoint format\n",
      "\n",
      "\n",
      "🤗 Accelerate integrations\n",
      "\n",
      "\n",
      "DeepSpeed\n",
      "Fully Sharded Data Parallel\n",
      "\n",
      "\n",
      "Conceptual guides\n",
      "\n",
      "\n",
      "Adapters\n",
      "Soft prompts\n",
      "IA3\n",
      "OFT/BOFT\n",
      "\n",
      "\n",
      "API reference\n",
      "\n",
      "\n",
      "\n",
      "Main classes\n",
      "\n",
      "\n",
      "AutoPeftModel\n",
      "PEFT model\n",
      "PEFT types\n",
      "Configuration\n",
      "Tuner\n",
      "\n",
      "\n",
      "Adapters\n",
      "\n",
      "\n",
      "AdaLoRA\n",
      "IA3\n",
      "Llama-Adapter\n",
      "LoHa\n",
      "LoKr\n",
      "LoRA\n",
      "X-LoRA\n",
      "LyCORIS\n",
      "Multitask Prompt Tuning\n",
      "OFT\n",
      "BOFT\n",
      "Polytropon\n",
      "P-tuning\n",
      "Prefix tuning\n",
      "Prompt tuning\n",
      "Layernorm tuning\n",
      "VeRA\n",
      "FourierFT\n",
      "VB-LoRA\n",
      "HRA\n",
      "CPT\n",
      "Bone\n",
      "Trainable Tokens\n",
      "RandLora\n",
      "C3A\n",
      "\n",
      "\n",
      "Utilities\n",
      "\n",
      "\n",
      "Model merge\n",
      "Helpers\n",
      "Hotswapping adapters\n",
      "\n",
      "\n",
      "\n",
      "\n",
      "\n",
      "Join the Hugging Face community\n",
      "and get access to the augmented documentation experience\n",
      "\t\t\n",
      "\n",
      "Collaborate on models, datasets and Spaces\n",
      "\t\t\t\t\n",
      "\n",
      "Faster examples with accelerated inference\n",
      "\t\t\t\t\n",
      "\n",
      "Switch between documentation themes\n",
      "\t\t\t\t\n",
      "Sign Up\n",
      "to get started\n",
      " \n",
      "\n",
      "\n",
      "\n",
      "\n",
      "\n",
      "\n",
      "\n",
      "\n",
      "\n",
      "\n",
      "   PEFT 🤗 PEFT (Parameter-Efficient Fine-Tuning) is a library for efficiently adapting large pretrained models to various downstream applications without fine-tuning all of a model’s parameters because it is prohibitively costly. PEFT methods only fine-tune a small number of (extra) model parameters - significantly decreasing computational and storage costs - while yielding performance comparable to a fully fine-tuned model. This makes it more accessible to train and store large language models (LLMs) on consumer hardware. PEFT is integrated with the Transformers, Diffusers, and Accelerate libraries to provide a faster and easier way to load, train, and use large models for inference. Quicktour Start here if you're new to 🤗 PEFT to get an overview of the library's main features, and how to train a model with a PEFT method. How-to guides Practical guides demonstrating how to apply various PEFT methods across different types of tasks like image classification, causal language modeling, automatic speech recognition, and more. Learn how to use 🤗 PEFT with the DeepSpeed and Fully Sharded Data Parallel scripts. Conceptual guides Get a better theoretical understanding of how LoRA and various soft prompting methods help reduce the number of trainable parameters to make training more efficient. Reference Technical descriptions of how 🤗 PEFT classes and methods work.  < > Update on GitHub \n",
      "\n",
      "\n",
      "\n",
      "Quicktour→\n",
      "\n",
      "\n",
      "PEFT\n",
      "\n",
      "\n",
      "\n",
      "\n",
      "\n",
      "\n",
      "\n",
      "\n",
      "\n"
     ]
    }
   ],
   "source": [
    "from langchain.document_loaders import WebBaseLoader\n",
    "web_loader = WebBaseLoader(\"https://huggingface.co/docs/peft/en/index\")\n",
    "docs = web_loader.load()\n",
    "doc = docs[0]\n",
    "print(doc.page_content)"
   ]
  }
 ],
 "metadata": {
  "kernelspec": {
   "display_name": ".venv",
   "language": "python",
   "name": "python3"
  },
  "language_info": {
   "codemirror_mode": {
    "name": "ipython",
    "version": 3
   },
   "file_extension": ".py",
   "mimetype": "text/x-python",
   "name": "python",
   "nbconvert_exporter": "python",
   "pygments_lexer": "ipython3",
   "version": "3.11.7"
  }
 },
 "nbformat": 4,
 "nbformat_minor": 5
}
