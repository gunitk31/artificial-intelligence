{
 "cells": [
  {
   "cell_type": "code",
   "execution_count": 1,
   "id": "e54c3759",
   "metadata": {},
   "outputs": [
    {
     "name": "stdout",
     "output_type": "stream",
     "text": [
      "2.6.0+cpu\n"
     ]
    }
   ],
   "source": [
    "import torch\n",
    "\n",
    "print(torch.__version__)"
   ]
  },
  {
   "cell_type": "code",
   "execution_count": 2,
   "id": "d9aaca37",
   "metadata": {},
   "outputs": [],
   "source": [
    "device = torch.device(\"cuda\" if torch.cuda.is_available() else \"cpu\")"
   ]
  },
  {
   "cell_type": "markdown",
   "id": "faf18a90",
   "metadata": {},
   "source": []
  },
  {
   "cell_type": "markdown",
   "id": "a5fc1426",
   "metadata": {},
   "source": [
    "# Get & Set default tensory data type"
   ]
  },
  {
   "cell_type": "code",
   "execution_count": 3,
   "id": "991a2388",
   "metadata": {},
   "outputs": [
    {
     "data": {
      "text/plain": [
       "torch.float32"
      ]
     },
     "execution_count": 3,
     "metadata": {},
     "output_type": "execute_result"
    }
   ],
   "source": [
    "torch.get_default_dtype()"
   ]
  },
  {
   "cell_type": "code",
   "execution_count": 4,
   "id": "6d07ab61",
   "metadata": {},
   "outputs": [
    {
     "ename": "TypeError",
     "evalue": "only floating-point types are supported as the default type",
     "output_type": "error",
     "traceback": [
      "\u001b[31m---------------------------------------------------------------------------\u001b[39m",
      "\u001b[31mTypeError\u001b[39m                                 Traceback (most recent call last)",
      "\u001b[36mCell\u001b[39m\u001b[36m \u001b[39m\u001b[32mIn[4]\u001b[39m\u001b[32m, line 1\u001b[39m\n\u001b[32m----> \u001b[39m\u001b[32m1\u001b[39m \u001b[43mtorch\u001b[49m\u001b[43m.\u001b[49m\u001b[43mset_default_dtype\u001b[49m\u001b[43m(\u001b[49m\u001b[43mtorch\u001b[49m\u001b[43m.\u001b[49m\u001b[43mint\u001b[49m\u001b[43m)\u001b[49m\n",
      "\u001b[36mFile \u001b[39m\u001b[32mc:\\Users\\gunit\\OneDrive\\Documents\\Study Material\\Practice Projects\\remote\\artificial-intelligence\\.venv\\Lib\\site-packages\\torch\\__init__.py:1289\u001b[39m, in \u001b[36mset_default_dtype\u001b[39m\u001b[34m(d)\u001b[39m\n\u001b[32m   1239\u001b[39m \u001b[38;5;28;01mdef\u001b[39;00m\u001b[38;5;250m \u001b[39m\u001b[34mset_default_dtype\u001b[39m(d: \u001b[33m\"\u001b[39m\u001b[33mtorch.dtype\u001b[39m\u001b[33m\"\u001b[39m, /) -> \u001b[38;5;28;01mNone\u001b[39;00m:\n\u001b[32m   1240\u001b[39m \u001b[38;5;250m    \u001b[39m\u001b[33mr\u001b[39m\u001b[33;03m\"\"\"\u001b[39;00m\n\u001b[32m   1241\u001b[39m \n\u001b[32m   1242\u001b[39m \u001b[33;03m    Sets the default floating point dtype to :attr:`d`. Supports floating point dtype\u001b[39;00m\n\u001b[32m   (...)\u001b[39m\u001b[32m   1287\u001b[39m \n\u001b[32m   1288\u001b[39m \u001b[33;03m    \"\"\"\u001b[39;00m\n\u001b[32m-> \u001b[39m\u001b[32m1289\u001b[39m     \u001b[43m_C\u001b[49m\u001b[43m.\u001b[49m\u001b[43m_set_default_dtype\u001b[49m\u001b[43m(\u001b[49m\u001b[43md\u001b[49m\u001b[43m)\u001b[49m\n",
      "\u001b[31mTypeError\u001b[39m: only floating-point types are supported as the default type"
     ]
    }
   ],
   "source": [
    "torch.set_default_dtype(torch.int)"
   ]
  },
  {
   "cell_type": "code",
   "execution_count": 5,
   "id": "b757cef0",
   "metadata": {},
   "outputs": [
    {
     "data": {
      "text/plain": [
       "torch.float64"
      ]
     },
     "execution_count": 5,
     "metadata": {},
     "output_type": "execute_result"
    }
   ],
   "source": [
    "torch.set_default_dtype(torch.float64)\n",
    "torch.get_default_dtype()"
   ]
  },
  {
   "cell_type": "markdown",
   "id": "4a2cd168",
   "metadata": {},
   "source": [
    "# Creating tensors"
   ]
  },
  {
   "cell_type": "code",
   "execution_count": 6,
   "id": "6b4c9629",
   "metadata": {},
   "outputs": [
    {
     "data": {
      "text/plain": [
       "tensor([[1., 2., 3.],\n",
       "        [4., 5., 6.]])"
      ]
     },
     "execution_count": 6,
     "metadata": {},
     "output_type": "execute_result"
    }
   ],
   "source": [
    "tensor_arr = torch.Tensor([[1,2,3],[4,5,6]], device=device) \n",
    "tensor_arr"
   ]
  },
  {
   "cell_type": "code",
   "execution_count": 7,
   "id": "2fcd3418",
   "metadata": {},
   "outputs": [
    {
     "data": {
      "text/plain": [
       "torch.float64"
      ]
     },
     "execution_count": 7,
     "metadata": {},
     "output_type": "execute_result"
    }
   ],
   "source": [
    "tensor_arr.dtype"
   ]
  },
  {
   "cell_type": "code",
   "execution_count": 8,
   "id": "916f0402",
   "metadata": {},
   "outputs": [
    {
     "data": {
      "text/plain": [
       "True"
      ]
     },
     "execution_count": 8,
     "metadata": {},
     "output_type": "execute_result"
    }
   ],
   "source": [
    "torch.is_tensor(tensor_arr)"
   ]
  },
  {
   "cell_type": "code",
   "execution_count": 9,
   "id": "846433a3",
   "metadata": {},
   "outputs": [
    {
     "data": {
      "text/plain": [
       "False"
      ]
     },
     "execution_count": 9,
     "metadata": {},
     "output_type": "execute_result"
    }
   ],
   "source": [
    "l = [[1,2,3],[4,5,6]]\n",
    "torch.is_tensor(l)"
   ]
  },
  {
   "cell_type": "code",
   "execution_count": 10,
   "id": "c1e3c33c",
   "metadata": {},
   "outputs": [
    {
     "data": {
      "text/plain": [
       "6"
      ]
     },
     "execution_count": 10,
     "metadata": {},
     "output_type": "execute_result"
    }
   ],
   "source": [
    "torch.numel(tensor_arr)"
   ]
  },
  {
   "cell_type": "code",
   "execution_count": 11,
   "id": "24aeff3c",
   "metadata": {},
   "outputs": [
    {
     "data": {
      "text/plain": [
       "torch.Size([2, 3])"
      ]
     },
     "execution_count": 11,
     "metadata": {},
     "output_type": "execute_result"
    }
   ],
   "source": [
    "tensor_arr.shape"
   ]
  },
  {
   "cell_type": "code",
   "execution_count": 12,
   "id": "9a1c1cbd",
   "metadata": {},
   "outputs": [
    {
     "data": {
      "text/plain": [
       "tensor([[1.4934e-311,  0.0000e+00,  0.0000e+00],\n",
       "        [ 0.0000e+00,  0.0000e+00,  0.0000e+00]])"
      ]
     },
     "execution_count": 12,
     "metadata": {},
     "output_type": "execute_result"
    }
   ],
   "source": [
    "tensor_uninitialized = torch.Tensor(2,3, device=device)\n",
    "tensor_uninitialized"
   ]
  },
  {
   "cell_type": "code",
   "execution_count": 13,
   "id": "4046b3ed",
   "metadata": {},
   "outputs": [
    {
     "data": {
      "text/plain": [
       "tensor([[0.6647, 0.3115, 0.4445],\n",
       "        [0.6013, 0.6425, 0.4776]])"
      ]
     },
     "execution_count": 13,
     "metadata": {},
     "output_type": "execute_result"
    }
   ],
   "source": [
    "torch_initialized = torch.rand(2,3, device=device)\n",
    "torch_initialized"
   ]
  },
  {
   "cell_type": "code",
   "execution_count": 14,
   "id": "24c5ca43",
   "metadata": {},
   "outputs": [
    {
     "data": {
      "text/plain": [
       "tensor([[0, 0, 0],\n",
       "        [0, 0, 0]], dtype=torch.int32)"
      ]
     },
     "execution_count": 14,
     "metadata": {},
     "output_type": "execute_result"
    }
   ],
   "source": [
    "torch_int = torch.rand(2,3,device=device).type(torch.int32)\n",
    "torch_int"
   ]
  },
  {
   "cell_type": "code",
   "execution_count": 15,
   "id": "ec70b4fb",
   "metadata": {},
   "outputs": [
    {
     "data": {
      "text/plain": [
       "tensor([[29, 46, 98],\n",
       "        [55, 74, 84]], dtype=torch.int32)"
      ]
     },
     "execution_count": 15,
     "metadata": {},
     "output_type": "execute_result"
    }
   ],
   "source": [
    "torch_int = torch.randint(0, 100, (2, 3), device=device, dtype = torch.int32)\n",
    "torch_int"
   ]
  },
  {
   "cell_type": "code",
   "execution_count": 16,
   "id": "03c54d5e",
   "metadata": {},
   "outputs": [
    {
     "data": {
      "text/plain": [
       "tensor([[5, 5, 5],\n",
       "        [5, 5, 5]])"
      ]
     },
     "execution_count": 16,
     "metadata": {},
     "output_type": "execute_result"
    }
   ],
   "source": [
    "torch_fill = torch.full((2,3), fill_value=5, device=device)\n",
    "torch_fill"
   ]
  },
  {
   "cell_type": "code",
   "execution_count": 17,
   "id": "b8e67e63",
   "metadata": {},
   "outputs": [
    {
     "data": {
      "text/plain": [
       "tensor([[1., 1., 1.],\n",
       "        [1., 1., 1.]])"
      ]
     },
     "execution_count": 17,
     "metadata": {},
     "output_type": "execute_result"
    }
   ],
   "source": [
    "torch_ones = torch.ones((2,3), device=device)\n",
    "torch_ones"
   ]
  },
  {
   "cell_type": "code",
   "execution_count": 18,
   "id": "01a389eb",
   "metadata": {},
   "outputs": [
    {
     "data": {
      "text/plain": [
       "tensor([[0., 0., 0.],\n",
       "        [0., 0., 0.]])"
      ]
     },
     "execution_count": 18,
     "metadata": {},
     "output_type": "execute_result"
    }
   ],
   "source": [
    "torch_zeroes = torch.zeros((2,3), device=device)\n",
    "torch_zeroes"
   ]
  },
  {
   "cell_type": "code",
   "execution_count": 19,
   "id": "eb260aad",
   "metadata": {},
   "outputs": [
    {
     "data": {
      "text/plain": [
       "tensor([[0., 0., 0.],\n",
       "        [0., 0., 0.]])"
      ]
     },
     "execution_count": 19,
     "metadata": {},
     "output_type": "execute_result"
    }
   ],
   "source": [
    "torch_zeroes = torch.zeros_like(tensor_arr, device=device)\n",
    "torch_zeroes"
   ]
  },
  {
   "cell_type": "markdown",
   "id": "1476e2ee",
   "metadata": {},
   "source": [
    "## Creating a tensor representing an identity matrix"
   ]
  },
  {
   "cell_type": "code",
   "execution_count": 20,
   "id": "37ad24f1",
   "metadata": {},
   "outputs": [
    {
     "data": {
      "text/plain": [
       "tensor([[1., 0., 0., 0., 0., 0., 0.],\n",
       "        [0., 1., 0., 0., 0., 0., 0.],\n",
       "        [0., 0., 1., 0., 0., 0., 0.],\n",
       "        [0., 0., 0., 1., 0., 0., 0.],\n",
       "        [0., 0., 0., 0., 1., 0., 0.],\n",
       "        [0., 0., 0., 0., 0., 1., 0.],\n",
       "        [0., 0., 0., 0., 0., 0., 1.]])"
      ]
     },
     "execution_count": 20,
     "metadata": {},
     "output_type": "execute_result"
    }
   ],
   "source": [
    "torch_identity_matrix = torch.eye(7, device=device)\n",
    "torch_identity_matrix"
   ]
  },
  {
   "cell_type": "code",
   "execution_count": 21,
   "id": "0857c4fd",
   "metadata": {},
   "outputs": [
    {
     "data": {
      "text/plain": [
       "tensor([[0, 0],\n",
       "        [1, 1],\n",
       "        [2, 2],\n",
       "        [3, 3],\n",
       "        [4, 4],\n",
       "        [5, 5],\n",
       "        [6, 6]])"
      ]
     },
     "execution_count": 21,
     "metadata": {},
     "output_type": "execute_result"
    }
   ],
   "source": [
    "torch.nonzero(torch_identity_matrix)"
   ]
  },
  {
   "cell_type": "markdown",
   "id": "c42bc2b4",
   "metadata": {},
   "source": [
    "## Creating a sparce tensor"
   ]
  },
  {
   "cell_type": "code",
   "execution_count": 22,
   "id": "76b44ed3",
   "metadata": {},
   "outputs": [
    {
     "name": "stdout",
     "output_type": "stream",
     "text": [
      "Indices of sparse tensor:\n",
      "tensor([[0, 1, 2],\n",
      "        [1, 2, 3]])\n",
      "\n",
      "Values of sparse tensor:\n",
      "tensor([ 7, 11, 21])\n",
      "\n",
      "Sparse tensor:\n",
      "tensor(indices=tensor([[0, 1, 2],\n",
      "                       [1, 2, 3]]),\n",
      "       values=tensor([ 7, 11, 21]),\n",
      "       size=(4, 4), nnz=3, layout=torch.sparse_coo)\n",
      "\n",
      "Dense representation of sparse tensor:\n",
      "tensor([[ 0,  7,  0,  0],\n",
      "        [ 0,  0, 11,  0],\n",
      "        [ 0,  0,  0, 21],\n",
      "        [ 0,  0,  0,  0]])\n"
     ]
    }
   ],
   "source": [
    "indices = torch.tensor([[0, 1, 2], [1, 2, 3]])\n",
    "values = torch.tensor([7, 11, 21])\n",
    "sparse_tensor = torch.sparse_coo_tensor(indices, values, (4, 4), device=device)\n",
    "print(\"Indices of sparse tensor:\")\n",
    "print(indices)\n",
    "\n",
    "print(\"\\nValues of sparse tensor:\")\n",
    "print(values)\n",
    "\n",
    "print(\"\\nSparse tensor:\")\n",
    "print(sparse_tensor)\n",
    "\n",
    "print(\"\\nDense representation of sparse tensor:\")\n",
    "print(sparse_tensor.to_dense())"
   ]
  },
  {
   "cell_type": "markdown",
   "id": "4555dacf",
   "metadata": {},
   "source": [
    "## Creating tensors with evenly spaced numbers"
   ]
  },
  {
   "cell_type": "code",
   "execution_count": 23,
   "id": "c709d6ac",
   "metadata": {},
   "outputs": [
    {
     "data": {
      "text/plain": [
       "tensor([ 0.0000,  0.5263,  1.0526,  1.5789,  2.1053,  2.6316,  3.1579,  3.6842,\n",
       "         4.2105,  4.7368,  5.2632,  5.7895,  6.3158,  6.8421,  7.3684,  7.8947,\n",
       "         8.4211,  8.9474,  9.4737, 10.0000])"
      ]
     },
     "execution_count": 23,
     "metadata": {},
     "output_type": "execute_result"
    }
   ],
   "source": [
    "x = torch.linspace(0, 10, steps=20, device=device)\n",
    "x"
   ]
  },
  {
   "cell_type": "markdown",
   "id": "87bfef18",
   "metadata": {},
   "source": [
    "# In-Place & Out of Place operations on tensors"
   ]
  },
  {
   "cell_type": "code",
   "execution_count": 24,
   "id": "0d1290a7",
   "metadata": {},
   "outputs": [
    {
     "data": {
      "text/plain": [
       "tensor([[5., 5., 5.],\n",
       "        [5., 5., 5.]])"
      ]
     },
     "execution_count": 24,
     "metadata": {},
     "output_type": "execute_result"
    }
   ],
   "source": [
    "initial_tensor = torch.rand(2, 3, device=device)\n",
    "initial_tensor.fill_(5)\n",
    "initial_tensor"
   ]
  },
  {
   "cell_type": "code",
   "execution_count": 25,
   "id": "288ec0d5",
   "metadata": {},
   "outputs": [
    {
     "data": {
      "text/plain": [
       "tensor([[15., 15., 15.],\n",
       "        [15., 15., 15.]])"
      ]
     },
     "execution_count": 25,
     "metadata": {},
     "output_type": "execute_result"
    }
   ],
   "source": [
    "initial_tensor.add(10)"
   ]
  },
  {
   "cell_type": "code",
   "execution_count": 26,
   "id": "461d76b0",
   "metadata": {},
   "outputs": [
    {
     "data": {
      "text/plain": [
       "tensor([[5., 5., 5.],\n",
       "        [5., 5., 5.]])"
      ]
     },
     "execution_count": 26,
     "metadata": {},
     "output_type": "execute_result"
    }
   ],
   "source": [
    "initial_tensor"
   ]
  },
  {
   "cell_type": "code",
   "execution_count": 27,
   "id": "c728cef5",
   "metadata": {},
   "outputs": [
    {
     "data": {
      "text/plain": [
       "tensor([[15., 15., 15.],\n",
       "        [15., 15., 15.]])"
      ]
     },
     "execution_count": 27,
     "metadata": {},
     "output_type": "execute_result"
    }
   ],
   "source": [
    "initial_tensor.add_(10)"
   ]
  },
  {
   "cell_type": "code",
   "execution_count": 28,
   "id": "7b1d3b2a",
   "metadata": {},
   "outputs": [
    {
     "data": {
      "text/plain": [
       "tensor([[15., 15., 15.],\n",
       "        [15., 15., 15.]])"
      ]
     },
     "execution_count": 28,
     "metadata": {},
     "output_type": "execute_result"
    }
   ],
   "source": [
    "initial_tensor"
   ]
  },
  {
   "cell_type": "code",
   "execution_count": 29,
   "id": "2f695dae",
   "metadata": {},
   "outputs": [
    {
     "data": {
      "text/plain": [
       "tensor([[20., 20., 20.],\n",
       "        [20., 20., 20.]])"
      ]
     },
     "execution_count": 29,
     "metadata": {},
     "output_type": "execute_result"
    }
   ],
   "source": [
    "new_tensor = initial_tensor.add(5)\n",
    "new_tensor"
   ]
  },
  {
   "cell_type": "code",
   "execution_count": 30,
   "id": "748dc7c8",
   "metadata": {},
   "outputs": [
    {
     "data": {
      "text/plain": [
       "tensor([[15., 15., 15.],\n",
       "        [15., 15., 15.]])"
      ]
     },
     "execution_count": 30,
     "metadata": {},
     "output_type": "execute_result"
    }
   ],
   "source": [
    "initial_tensor"
   ]
  },
  {
   "cell_type": "code",
   "execution_count": 31,
   "id": "415ad210",
   "metadata": {},
   "outputs": [
    {
     "data": {
      "text/plain": [
       "tensor([[3.8730, 3.8730, 3.8730],\n",
       "        [3.8730, 3.8730, 3.8730]])"
      ]
     },
     "execution_count": 31,
     "metadata": {},
     "output_type": "execute_result"
    }
   ],
   "source": [
    "initial_tensor.sqrt_()\n",
    "initial_tensor"
   ]
  },
  {
   "cell_type": "code",
   "execution_count": 32,
   "id": "afdec86d",
   "metadata": {},
   "outputs": [
    {
     "data": {
      "text/plain": [
       "tensor([[3.8730, 3.8730],\n",
       "        [3.8730, 3.8730],\n",
       "        [3.8730, 3.8730]])"
      ]
     },
     "execution_count": 32,
     "metadata": {},
     "output_type": "execute_result"
    }
   ],
   "source": [
    "initial_tensor.transpose_(0,1)\n",
    "initial_tensor"
   ]
  },
  {
   "cell_type": "code",
   "execution_count": 33,
   "id": "33dde235",
   "metadata": {},
   "outputs": [
    {
     "data": {
      "text/plain": [
       "tensor([[ 0.0000,  0.7143,  1.4286,  2.1429,  2.8571],\n",
       "        [ 3.5714,  4.2857,  5.0000,  5.7143,  6.4286],\n",
       "        [ 7.1429,  7.8571,  8.5714,  9.2857, 10.0000]])"
      ]
     },
     "execution_count": 33,
     "metadata": {},
     "output_type": "execute_result"
    }
   ],
   "source": [
    "x = torch.linspace(0, 10, steps=15, device=device).reshape(3, 5)\n",
    "x"
   ]
  },
  {
   "cell_type": "code",
   "execution_count": 34,
   "id": "dfd05c1a",
   "metadata": {},
   "outputs": [
    {
     "data": {
      "text/plain": [
       "(tensor([[0.0000],\n",
       "         [3.5714],\n",
       "         [7.1429]]),\n",
       " tensor([[0.7143],\n",
       "         [4.2857],\n",
       "         [7.8571]]),\n",
       " tensor([[1.4286],\n",
       "         [5.0000],\n",
       "         [8.5714]]),\n",
       " tensor([[2.1429],\n",
       "         [5.7143],\n",
       "         [9.2857]]),\n",
       " tensor([[ 2.8571],\n",
       "         [ 6.4286],\n",
       "         [10.0000]]))"
      ]
     },
     "execution_count": 34,
     "metadata": {},
     "output_type": "execute_result"
    }
   ],
   "source": [
    "tensor_chunk = torch.chunk(x, 5, dim=1)\n",
    "tensor_chunk\n"
   ]
  },
  {
   "cell_type": "code",
   "execution_count": 35,
   "id": "f78bcac7",
   "metadata": {},
   "outputs": [
    {
     "data": {
      "text/plain": [
       "tensor([[ 0.0000,  0.7143,  1.4286,  2.1429,  2.8571],\n",
       "        [ 3.5714,  4.2857,  5.0000,  5.7143,  6.4286],\n",
       "        [ 7.1429,  7.8571,  8.5714,  9.2857, 10.0000]])"
      ]
     },
     "execution_count": 35,
     "metadata": {},
     "output_type": "execute_result"
    }
   ],
   "source": [
    "tensor_concatenated = torch.cat(tensor_chunk, dim=1)\n",
    "tensor_concatenated"
   ]
  },
  {
   "cell_type": "code",
   "execution_count": 36,
   "id": "593bda28",
   "metadata": {},
   "outputs": [
    {
     "data": {
      "text/plain": [
       "torch.Size([3, 1])"
      ]
     },
     "execution_count": 36,
     "metadata": {},
     "output_type": "execute_result"
    }
   ],
   "source": [
    "tensor_chunk[0].shape"
   ]
  },
  {
   "cell_type": "code",
   "execution_count": 37,
   "id": "d69869c0",
   "metadata": {},
   "outputs": [
    {
     "data": {
      "text/plain": [
       "tensor([[0.0000],\n",
       "        [3.5714],\n",
       "        [7.1429],\n",
       "        [0.7143],\n",
       "        [4.2857],\n",
       "        [7.8571],\n",
       "        [1.0000],\n",
       "        [2.0000]])"
      ]
     },
     "execution_count": 37,
     "metadata": {},
     "output_type": "execute_result"
    }
   ],
   "source": [
    "tensor1 = tensor_chunk[0]\n",
    "tensor2 = tensor_chunk[1]\n",
    "tensor3 = torch.tensor([[1],[2]], device=device)\n",
    "\n",
    "tensor_concatenated = torch.cat((tensor1, tensor2, tensor3), 0)\n",
    "tensor_concatenated"
   ]
  },
  {
   "cell_type": "code",
   "execution_count": 38,
   "id": "a11743c4",
   "metadata": {},
   "outputs": [
    {
     "data": {
      "text/plain": [
       "torch.Size([3, 2])"
      ]
     },
     "execution_count": 38,
     "metadata": {},
     "output_type": "execute_result"
    }
   ],
   "source": [
    "initial_tensor.shape"
   ]
  },
  {
   "cell_type": "code",
   "execution_count": 39,
   "id": "79c0f406",
   "metadata": {},
   "outputs": [
    {
     "data": {
      "text/plain": [
       "(torch.Size([3, 1, 2]),\n",
       " tensor([[[3.8730, 3.8730]],\n",
       " \n",
       "         [[3.8730, 3.8730]],\n",
       " \n",
       "         [[3.8730, 3.8730]]]))"
      ]
     },
     "execution_count": 39,
     "metadata": {},
     "output_type": "execute_result"
    }
   ],
   "source": [
    "unsqueezed_tensor = torch.unsqueeze(initial_tensor, 1)\n",
    "unsqueezed_tensor.shape, unsqueezed_tensor"
   ]
  },
  {
   "cell_type": "code",
   "execution_count": 40,
   "id": "4f724931",
   "metadata": {},
   "outputs": [
    {
     "data": {
      "text/plain": [
       "(torch.Size([3, 2]),\n",
       " tensor([[3.8730, 3.8730],\n",
       "         [3.8730, 3.8730],\n",
       "         [3.8730, 3.8730]]))"
      ]
     },
     "execution_count": 40,
     "metadata": {},
     "output_type": "execute_result"
    }
   ],
   "source": [
    "squeezed_tensor = torch.squeeze(unsqueezed_tensor, 1)\n",
    "squeezed_tensor.shape, squeezed_tensor"
   ]
  },
  {
   "cell_type": "code",
   "execution_count": 41,
   "id": "747ff167",
   "metadata": {},
   "outputs": [
    {
     "data": {
      "text/plain": [
       "(4, 1)"
      ]
     },
     "execution_count": 41,
     "metadata": {},
     "output_type": "execute_result"
    }
   ],
   "source": [
    "import numpy as np\n",
    "A = np.random.randn(4,3)\n",
    "\n",
    "B = np.sum(A, axis = 1, keepdims = True) \n",
    "B.shape"
   ]
  },
  {
   "cell_type": "code",
   "execution_count": null,
   "id": "ebfbab42",
   "metadata": {},
   "outputs": [],
   "source": []
  }
 ],
 "metadata": {
  "kernelspec": {
   "display_name": ".venv",
   "language": "python",
   "name": "python3"
  },
  "language_info": {
   "codemirror_mode": {
    "name": "ipython",
    "version": 3
   },
   "file_extension": ".py",
   "mimetype": "text/x-python",
   "name": "python",
   "nbconvert_exporter": "python",
   "pygments_lexer": "ipython3",
   "version": "3.11.7"
  }
 },
 "nbformat": 4,
 "nbformat_minor": 5
}
